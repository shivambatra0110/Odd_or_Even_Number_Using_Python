{
 "cells": [
  {
   "cell_type": "markdown",
   "id": "7de13313",
   "metadata": {},
   "source": [
    "## To Check weather the Number is Odd or Even "
   ]
  },
  {
   "cell_type": "code",
   "execution_count": 2,
   "id": "dbcb57c5",
   "metadata": {},
   "outputs": [
    {
     "name": "stdout",
     "output_type": "stream",
     "text": [
      "Enter a number: 2\n",
      "2 is Even\n"
     ]
    }
   ],
   "source": [
    "# To take input from user\n",
    "Number = int(input(\"Enter a number: \"))\n",
    "# A number is even if division by 2 gives a remainder of 0.\n",
    "if (Number % 2) == 0:\n",
    "   print(Number,\"is Even\")\n",
    "# else it is a odd Number\n",
    "else:\n",
    "   print(Number,\" is Odd\")"
   ]
  }
 ],
 "metadata": {
  "kernelspec": {
   "display_name": "Python 3 (ipykernel)",
   "language": "python",
   "name": "python3"
  },
  "language_info": {
   "codemirror_mode": {
    "name": "ipython",
    "version": 3
   },
   "file_extension": ".py",
   "mimetype": "text/x-python",
   "name": "python",
   "nbconvert_exporter": "python",
   "pygments_lexer": "ipython3",
   "version": "3.9.12"
  }
 },
 "nbformat": 4,
 "nbformat_minor": 5
}
